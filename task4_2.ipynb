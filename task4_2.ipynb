{
 "cells": [
  {
   "cell_type": "code",
   "execution_count": 1,
   "id": "c2f464c5",
   "metadata": {},
   "outputs": [],
   "source": [
    "import cv2"
   ]
  },
  {
   "cell_type": "code",
   "execution_count": 4,
   "id": "75a8a1cf",
   "metadata": {},
   "outputs": [],
   "source": [
    "photo1 =  cv2.imread(\"one.jpg\")"
   ]
  },
  {
   "cell_type": "code",
   "execution_count": 5,
   "id": "02c52268",
   "metadata": {},
   "outputs": [
    {
     "data": {
      "text/plain": [
       "(900, 1600, 3)"
      ]
     },
     "execution_count": 5,
     "metadata": {},
     "output_type": "execute_result"
    }
   ],
   "source": [
    "photo1.shape"
   ]
  },
  {
   "cell_type": "code",
   "execution_count": 6,
   "id": "3cbfccf9",
   "metadata": {},
   "outputs": [],
   "source": [
    "photo2 = cv2.imread(\"two.jpg\")"
   ]
  },
  {
   "cell_type": "code",
   "execution_count": 7,
   "id": "5f9891f2",
   "metadata": {},
   "outputs": [
    {
     "data": {
      "text/plain": [
       "(900, 1600, 3)"
      ]
     },
     "execution_count": 7,
     "metadata": {},
     "output_type": "execute_result"
    }
   ],
   "source": [
    "photo2.shape"
   ]
  },
  {
   "cell_type": "code",
   "execution_count": 8,
   "id": "921357f6",
   "metadata": {},
   "outputs": [],
   "source": [
    "cv2.imshow(\"pic_1\", photo1)\n",
    "cv2.waitKey()\n",
    "cv2.destroyAllWindows()"
   ]
  },
  {
   "cell_type": "code",
   "execution_count": 9,
   "id": "9856d294",
   "metadata": {},
   "outputs": [],
   "source": [
    "cv2.imshow(\"pic_2\", photo2)\n",
    "cv2.waitKey()\n",
    "cv2.destroyAllWindows()"
   ]
  },
  {
   "cell_type": "code",
   "execution_count": 10,
   "id": "924975b6",
   "metadata": {},
   "outputs": [],
   "source": [
    "crop_1 = photo1[400:600, 700:900]         #cropped some part of first photo \n",
    "photo2[400:600, 700:900] = crop_1         #swapped\n",
    "cv2.imshow(\"swap_1\", photo2)\n",
    "cv2.waitKey()\n",
    "cv2.destroyAllWindows()"
   ]
  },
  {
   "cell_type": "code",
   "execution_count": null,
   "id": "b023f82f",
   "metadata": {},
   "outputs": [],
   "source": [
    "photo_2 = cv2.imread(\"two.jpg\")\n",
    "crop_2 = photo_2[400:600, 700:900]         #cropped some part of second photo\n",
    "photo1[400:600, 700:900] = crop_2           #swapped\n",
    "cv2.imshow(\"swap_2\", photo1)\n",
    "cv2.waitKey()\n",
    "cv2.destroyAllWindows()"
   ]
  },
  {
   "cell_type": "code",
   "execution_count": null,
   "id": "1ec91c97",
   "metadata": {},
   "outputs": [],
   "source": []
  }
 ],
 "metadata": {
  "kernelspec": {
   "display_name": "Python 3",
   "language": "python",
   "name": "python3"
  },
  "language_info": {
   "codemirror_mode": {
    "name": "ipython",
    "version": 3
   },
   "file_extension": ".py",
   "mimetype": "text/x-python",
   "name": "python",
   "nbconvert_exporter": "python",
   "pygments_lexer": "ipython3",
   "version": "3.8.8"
  }
 },
 "nbformat": 4,
 "nbformat_minor": 5
}
