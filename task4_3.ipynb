{
 "cells": [
  {
   "cell_type": "code",
   "execution_count": 1,
   "id": "90d0622d",
   "metadata": {},
   "outputs": [],
   "source": [
    "import cv2"
   ]
  },
  {
   "cell_type": "code",
   "execution_count": 2,
   "id": "81b2dd5e",
   "metadata": {},
   "outputs": [],
   "source": [
    "flower = cv2.imread(\"one.jpg\")"
   ]
  },
  {
   "cell_type": "code",
   "execution_count": 3,
   "id": "de3479c7",
   "metadata": {},
   "outputs": [
    {
     "data": {
      "text/plain": [
       "(900, 1600, 3)"
      ]
     },
     "execution_count": 3,
     "metadata": {},
     "output_type": "execute_result"
    }
   ],
   "source": [
    "flower.shape"
   ]
  },
  {
   "cell_type": "code",
   "execution_count": 4,
   "id": "5c52fc1c",
   "metadata": {},
   "outputs": [],
   "source": [
    "cv2.imshow(\"first_pic\", flower )\n",
    "cv2.waitKey()\n",
    "cv2.destroyAllWindows()"
   ]
  },
  {
   "cell_type": "code",
   "execution_count": 5,
   "id": "5b7b9e9d",
   "metadata": {},
   "outputs": [],
   "source": [
    "scenery = cv2.imread(\"two.jpg\")"
   ]
  },
  {
   "cell_type": "code",
   "execution_count": 6,
   "id": "4766736a",
   "metadata": {},
   "outputs": [
    {
     "data": {
      "text/plain": [
       "(900, 1600, 3)"
      ]
     },
     "execution_count": 6,
     "metadata": {},
     "output_type": "execute_result"
    }
   ],
   "source": [
    "scenery.shape"
   ]
  },
  {
   "cell_type": "code",
   "execution_count": 9,
   "id": "c06ac2bc",
   "metadata": {},
   "outputs": [],
   "source": [
    "cv2.imshow(\"second_pic\", scenery )\n",
    "cv2.waitKey()\n",
    "cv2.destroyAllWindows()"
   ]
  },
  {
   "cell_type": "code",
   "execution_count": 8,
   "id": "690157c7",
   "metadata": {},
   "outputs": [],
   "source": [
    "flower = flower[: , 0:650]\n",
    "cv2.imshow(\"first_pic\", flower )\n",
    "cv2.waitKey()\n",
    "cv2.destroyAllWindows()"
   ]
  },
  {
   "cell_type": "code",
   "execution_count": 10,
   "id": "f294cdaa",
   "metadata": {},
   "outputs": [],
   "source": [
    "scenery = scenery[:, 800:1600]\n",
    "cv2.imshow(\"second_pic\", scenery )\n",
    "cv2.waitKey()\n",
    "cv2.destroyAllWindows()"
   ]
  },
  {
   "cell_type": "code",
   "execution_count": 11,
   "id": "736f7af5",
   "metadata": {},
   "outputs": [],
   "source": [
    "import numpy"
   ]
  },
  {
   "cell_type": "code",
   "execution_count": 12,
   "id": "b547a319",
   "metadata": {},
   "outputs": [],
   "source": [
    "collage = numpy.hstack((flower,scenery))"
   ]
  },
  {
   "cell_type": "code",
   "execution_count": 13,
   "id": "34cb9421",
   "metadata": {},
   "outputs": [],
   "source": [
    "cv2.imshow(\"collage\",collage)\n",
    "cv2.waitKey()\n",
    "cv2.destroyAllWindows()"
   ]
  },
  {
   "cell_type": "code",
   "execution_count": null,
   "id": "5be6f759",
   "metadata": {},
   "outputs": [],
   "source": []
  }
 ],
 "metadata": {
  "kernelspec": {
   "display_name": "Python 3",
   "language": "python",
   "name": "python3"
  },
  "language_info": {
   "codemirror_mode": {
    "name": "ipython",
    "version": 3
   },
   "file_extension": ".py",
   "mimetype": "text/x-python",
   "name": "python",
   "nbconvert_exporter": "python",
   "pygments_lexer": "ipython3",
   "version": "3.8.8"
  }
 },
 "nbformat": 4,
 "nbformat_minor": 5
}
